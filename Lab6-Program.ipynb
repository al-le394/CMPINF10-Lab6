{
 "cells": [
  {
   "cell_type": "code",
   "execution_count": null,
   "id": "d440b067-c4ef-4eb4-9743-fd60029f8350",
   "metadata": {},
   "outputs": [],
   "source": [
    "name = str(input('what is your name?'))\n",
    "print(\"hello \" + name)\n",
    "\n",
    "try:\n",
    "    mood = int(input(\"How are you feeling today? Input the corresponding integer. \\n 1: Happy \\n 2: I'm alright. \\n 3: Sad \\n 4: Angry \\n 5: Stressed\"))\n",
    "    moodInt = True\n",
    "except: \n",
    "    moodInt = False\n",
    "\n",
    "def inRange(moodInt):\n",
    "    if moodInt < 1 or moodInt > 5 or moodInt == False:\n",
    "        print(\"Please input an integer in the specified range.\")\n",
    "        return False\n",
    "    else:\n",
    "        return True\n",
    "\n",
    "while inRange(mood) == True:  \n",
    "    if mood == 1 or mood == 2:\n",
    "        print(\"I'm glad to hear that :D\")     \n",
    "    else:\n",
    "        print(\"I'm sorry about that. I hope tomorrow is better.\") \n",
    "    break "
   ]
  }
 ],
 "metadata": {
  "kernelspec": {
   "display_name": "Python 3 (ipykernel)",
   "language": "python",
   "name": "python3"
  },
  "language_info": {
   "codemirror_mode": {
    "name": "ipython",
    "version": 3
   },
   "file_extension": ".py",
   "mimetype": "text/x-python",
   "name": "python",
   "nbconvert_exporter": "python",
   "pygments_lexer": "ipython3",
   "version": "3.11.5"
  }
 },
 "nbformat": 4,
 "nbformat_minor": 5
}
